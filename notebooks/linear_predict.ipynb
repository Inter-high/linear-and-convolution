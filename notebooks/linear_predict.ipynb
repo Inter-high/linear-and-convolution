{
 "cells": [
  {
   "cell_type": "code",
   "execution_count": 1,
   "metadata": {},
   "outputs": [],
   "source": [
    "import random\n",
    "import matplotlib.pyplot as plt\n",
    "import torch\n",
    "import torch.nn as nn\n",
    "import torchvision.transforms as transforms\n",
    "from torchvision.datasets import MNIST\n",
    "from torch.utils.data import DataLoader"
   ]
  },
  {
   "cell_type": "code",
   "execution_count": 2,
   "metadata": {},
   "outputs": [],
   "source": [
    "seed = 42\n",
    "\n",
    "\n",
    "def seed_everything(seed=42):\n",
    "    random.seed(seed)  # Python 기본 랜덤 시드 고정\n",
    "    torch.manual_seed(seed)  # PyTorch CPU 시드 고정\n",
    "    torch.cuda.manual_seed(seed)  # PyTorch GPU 시드 고정\n",
    "\n",
    "    torch.backends.cudnn.deterministic = True  # 연산의 결정적(Deterministic) 실행 보장\n",
    "    torch.backends.cudnn.benchmark = False  # 모델 구조가 고정되지 않으면 비활성화\n",
    "\n",
    "seed_everything(seed)"
   ]
  },
  {
   "cell_type": "code",
   "execution_count": 3,
   "metadata": {},
   "outputs": [],
   "source": [
    "transform = transforms.Compose([\n",
    "    transforms.ToTensor(),\n",
    "    transforms.Lambda(lambda x: x.view(-1)),\n",
    "])"
   ]
  },
  {
   "cell_type": "code",
   "execution_count": 4,
   "metadata": {},
   "outputs": [],
   "source": [
    "test_dataset = MNIST(root=\"./data\", train=False, transform=transform, download=True)"
   ]
  },
  {
   "cell_type": "code",
   "execution_count": 5,
   "metadata": {},
   "outputs": [
    {
     "name": "stdout",
     "output_type": "stream",
     "text": [
      "10000\n"
     ]
    }
   ],
   "source": [
    "print(len(test_dataset))"
   ]
  },
  {
   "cell_type": "code",
   "execution_count": 6,
   "metadata": {},
   "outputs": [
    {
     "name": "stdout",
     "output_type": "stream",
     "text": [
      "<class 'torch.Tensor'>\n",
      "torch.Size([784])\n",
      "<class 'int'>\n",
      "7\n"
     ]
    }
   ],
   "source": [
    "image, label = test_dataset[0]\n",
    "\n",
    "print(type(image))\n",
    "print(image.shape)\n",
    "\n",
    "print(type(label))\n",
    "print(label)"
   ]
  },
  {
   "cell_type": "code",
   "execution_count": 7,
   "metadata": {},
   "outputs": [],
   "source": [
    "pil_transform = transforms.Compose([\n",
    "    transforms.Lambda(lambda x: x.view(-1, 28, 28)),\n",
    "    transforms.ToPILImage(),\n",
    "])"
   ]
  },
  {
   "cell_type": "code",
   "execution_count": 8,
   "metadata": {},
   "outputs": [
    {
     "data": {
      "image/png": "[encoded data removed]",
      "text/plain": [
       "<Figure size 640x480 with 2 Axes>"
      ]
     },
     "metadata": {},
     "output_type": "display_data"
    },
    {
     "name": "stdout",
     "output_type": "stream",
     "text": [
      "PIL.Image\n",
      "min: 0, max: 255\n",
      "Torch.tensor\n",
      "min: 0.0, max: 1.0\n"
     ]
    }
   ],
   "source": [
    "plt.title(\"MNIST sample image\")\n",
    "cax = plt.imshow(pil_transform(image))\n",
    "plt.colorbar(cax)\n",
    "plt.show()\n",
    "\n",
    "min_val, max_val = pil_transform(image).getextrema()\n",
    "print(f\"PIL.Image\")\n",
    "print(f\"min: {min_val}, max: {max_val}\")\n",
    "\n",
    "print(f\"Torch.tensor\")\n",
    "print(f\"min: {torch.min(image)}, max: {torch.max(image)}\")"
   ]
  },
  {
   "cell_type": "code",
   "execution_count": 9,
   "metadata": {},
   "outputs": [],
   "source": [
    "batch_size = 256\n",
    "num_workers = 8\n",
    "\n",
    "test_dataloader = DataLoader(test_dataset, batch_size, shuffle=False, num_workers=num_workers)"
   ]
  },
  {
   "cell_type": "code",
   "execution_count": 10,
   "metadata": {},
   "outputs": [
    {
     "name": "stdout",
     "output_type": "stream",
     "text": [
      "40\n"
     ]
    }
   ],
   "source": [
    "print(len(test_dataloader))"
   ]
  },
  {
   "cell_type": "code",
   "execution_count": 11,
   "metadata": {},
   "outputs": [],
   "source": [
    "class LinearModel(nn.Module):\n",
    "    def __init__(self, input_size, hidden_sizes, num_classes):\n",
    "        super().__init__()\n",
    "\n",
    "        self.input_size = input_size\n",
    "        self.hidden_sizes = hidden_sizes\n",
    "        self.num_classes = num_classes\n",
    "        self.layers = self.get_layer()\n",
    "\n",
    "    def get_layer(self):\n",
    "        layers = nn.ModuleList()\n",
    "\n",
    "        if self.hidden_sizes:\n",
    "            layers.append(nn.Linear(self.input_size, self.hidden_sizes[0]))\n",
    "            layers.append(nn.ReLU())\n",
    "            if len(self.hidden_sizes) >= 2:\n",
    "                for idx in range(1, len(self.hidden_sizes)):\n",
    "                    layers.append(nn.Linear(self.hidden_sizes[idx-1], self.hidden_sizes[idx]))\n",
    "                    layers.append(nn.ReLU())\n",
    "            layers.append(nn.Linear(self.hidden_sizes[-1], self.num_classes))\n",
    "        else:\n",
    "            layers.append(nn.Linear(self.input_size, self.num_classes))\n",
    "\n",
    "        return layers\n",
    "    \n",
    "    def forward(self, x):\n",
    "        for layer in self.layers:\n",
    "            x = layer(x)\n",
    "\n",
    "        return x"
   ]
  },
  {
   "cell_type": "code",
   "execution_count": 12,
   "metadata": {},
   "outputs": [],
   "source": [
    "model = LinearModel(784, [500, 300, 100], 10)"
   ]
  },
  {
   "cell_type": "code",
   "execution_count": 13,
   "metadata": {},
   "outputs": [
    {
     "name": "stdout",
     "output_type": "stream",
     "text": [
      "ModuleList(\n",
      "  (0): Linear(in_features=784, out_features=500, bias=True)\n",
      "  (1): ReLU()\n",
      "  (2): Linear(in_features=500, out_features=300, bias=True)\n",
      "  (3): ReLU()\n",
      "  (4): Linear(in_features=300, out_features=100, bias=True)\n",
      "  (5): ReLU()\n",
      "  (6): Linear(in_features=100, out_features=10, bias=True)\n",
      ")\n"
     ]
    }
   ],
   "source": [
    "print(model.layers)"
   ]
  },
  {
   "cell_type": "code",
   "execution_count": 14,
   "metadata": {},
   "outputs": [
    {
     "name": "stderr",
     "output_type": "stream",
     "text": [
      "/tmp/ipykernel_91761/1833195287.py:1: FutureWarning: You are using `torch.load` with `weights_only=False` (the current default value), which uses the default pickle module implicitly. It is possible to construct malicious pickle data which will execute arbitrary code during unpickling (See https://github.com/pytorch/pytorch/blob/main/SECURITY.md#untrusted-models for more details). In a future release, the default value for `weights_only` will be flipped to `True`. This limits the functions that could be executed during unpickling. Arbitrary objects will no longer be allowed to be loaded via this mode unless they are explicitly allowlisted by the user via `torch.serialization.add_safe_globals`. We recommend you start setting `weights_only=True` for any use case where you don't have full control of the loaded file. Please open an issue on GitHub for any issues related to this experimental feature.\n",
      "  model.load_state_dict(torch.load(\"best_model.pth\"))\n"
     ]
    },
    {
     "data": {
      "text/plain": [
       "<All keys matched successfully>"
      ]
     },
     "execution_count": 14,
     "metadata": {},
     "output_type": "execute_result"
    }
   ],
   "source": [
    "model.load_state_dict(torch.load(\"best_model.pth\"))"
   ]
  },
  {
   "cell_type": "code",
   "execution_count": 15,
   "metadata": {},
   "outputs": [
    {
     "data": {
      "text/plain": [
       "LinearModel(\n",
       "  (layers): ModuleList(\n",
       "    (0): Linear(in_features=784, out_features=500, bias=True)\n",
       "    (1): ReLU()\n",
       "    (2): Linear(in_features=500, out_features=300, bias=True)\n",
       "    (3): ReLU()\n",
       "    (4): Linear(in_features=300, out_features=100, bias=True)\n",
       "    (5): ReLU()\n",
       "    (6): Linear(in_features=100, out_features=10, bias=True)\n",
       "  )\n",
       ")"
      ]
     },
     "execution_count": 15,
     "metadata": {},
     "output_type": "execute_result"
    }
   ],
   "source": [
    "device = \"cuda\" if torch.cuda.is_available() else \"cpu\"\n",
    "\n",
    "model.to(device)"
   ]
  },
  {
   "cell_type": "code",
   "execution_count": 16,
   "metadata": {},
   "outputs": [
    {
     "name": "stdout",
     "output_type": "stream",
     "text": [
      "accuracy: 0.9681\n"
     ]
    }
   ],
   "source": [
    "predict_score = 0\n",
    "num_samples = 0\n",
    "for (x, y) in test_dataloader:\n",
    "    num_samples += y.size(0)\n",
    "    x = x.to(device)\n",
    "\n",
    "    output = model(x)\n",
    "    output_idx = output.argmax(dim=1).cpu()\n",
    "\n",
    "    sum = (output_idx == y).sum().item()\n",
    "    predict_score += sum\n",
    "\n",
    "accuracy = predict_score / num_samples\n",
    "print(f\"accuracy: {accuracy:.4f}\")"
   ]
  },
  {
   "cell_type": "markdown",
   "metadata": {},
   "source": [
    "# With Rotation"
   ]
  },
  {
   "cell_type": "code",
   "execution_count": 17,
   "metadata": {},
   "outputs": [],
   "source": [
    "transform = transforms.Compose([\n",
    "    transforms.ToTensor(),\n",
    "    transforms.RandomRotation(degrees=(0, 360)),\n",
    "    transforms.Lambda(lambda x: x.view(-1)),\n",
    "])"
   ]
  },
  {
   "cell_type": "code",
   "execution_count": 18,
   "metadata": {},
   "outputs": [],
   "source": [
    "test_dataset = MNIST(root=\"./data\", train=False, transform=transform, download=True)"
   ]
  },
  {
   "cell_type": "code",
   "execution_count": 19,
   "metadata": {},
   "outputs": [
    {
     "name": "stdout",
     "output_type": "stream",
     "text": [
      "10000\n"
     ]
    }
   ],
   "source": [
    "print(len(test_dataset))"
   ]
  },
  {
   "cell_type": "code",
   "execution_count": 20,
   "metadata": {},
   "outputs": [
    {
     "name": "stdout",
     "output_type": "stream",
     "text": [
      "<class 'torch.Tensor'>\n",
      "torch.Size([784])\n",
      "<class 'int'>\n",
      "7\n"
     ]
    }
   ],
   "source": [
    "image, label = test_dataset[0]\n",
    "\n",
    "print(type(image))\n",
    "print(image.shape)\n",
    "\n",
    "print(type(label))\n",
    "print(label)"
   ]
  },
  {
   "cell_type": "code",
   "execution_count": 21,
   "metadata": {},
   "outputs": [],
   "source": [
    "pil_transform = transforms.Compose([\n",
    "    transforms.Lambda(lambda x: x.view(-1, 28, 28)),\n",
    "    transforms.ToPILImage(),\n",
    "])"
   ]
  },
  {
   "cell_type": "code",
   "execution_count": 22,
   "metadata": {},
   "outputs": [
    {
     "data": {
      "image/png": "[encoded data removed]",
      "text/plain": [
       "<Figure size 640x480 with 2 Axes>"
      ]
     },
     "metadata": {},
     "output_type": "display_data"
    },
    {
     "name": "stdout",
     "output_type": "stream",
     "text": [
      "PIL.Image\n",
      "min: 0, max: 255\n",
      "Torch.tensor\n",
      "min: 0.0, max: 1.0\n"
     ]
    }
   ],
   "source": [
    "plt.title(\"MNIST sample image\")\n",
    "cax = plt.imshow(pil_transform(image))\n",
    "plt.colorbar(cax)\n",
    "plt.show()\n",
    "\n",
    "min_val, max_val = pil_transform(image).getextrema()\n",
    "print(f\"PIL.Image\")\n",
    "print(f\"min: {min_val}, max: {max_val}\")\n",
    "\n",
    "print(f\"Torch.tensor\")\n",
    "print(f\"min: {torch.min(image)}, max: {torch.max(image)}\")"
   ]
  },
  {
   "cell_type": "code",
   "execution_count": 23,
   "metadata": {},
   "outputs": [],
   "source": [
    "batch_size = 256\n",
    "num_workers = 8\n",
    "\n",
    "test_dataloader = DataLoader(test_dataset, batch_size, shuffle=False, num_workers=num_workers)"
   ]
  },
  {
   "cell_type": "code",
   "execution_count": 24,
   "metadata": {},
   "outputs": [
    {
     "name": "stdout",
     "output_type": "stream",
     "text": [
      "accuracy: 0.3305\n"
     ]
    }
   ],
   "source": [
    "predict_score = 0\n",
    "num_samples = 0\n",
    "for (x, y) in test_dataloader:\n",
    "    num_samples += y.size(0)\n",
    "    x = x.to(device)\n",
    "\n",
    "    output = model(x)\n",
    "    output_idx = output.argmax(dim=1).cpu()\n",
    "\n",
    "    sum = (output_idx == y).sum().item()\n",
    "    predict_score += sum\n",
    "\n",
    "accuracy = predict_score / num_samples\n",
    "print(f\"accuracy: {accuracy:.4f}\")"
   ]
  },
  {
   "cell_type": "markdown",
   "metadata": {},
   "source": [
    "# New"
   ]
  },
  {
   "cell_type": "code",
   "execution_count": 25,
   "metadata": {},
   "outputs": [],
   "source": [
    "import random\n",
    "import matplotlib.pyplot as plt\n",
    "import torch\n",
    "import torch.nn as nn\n",
    "import torchvision.transforms as transforms\n",
    "from torchvision.datasets import MNIST\n",
    "from torch.utils.data import DataLoader"
   ]
  },
  {
   "cell_type": "code",
   "execution_count": 26,
   "metadata": {},
   "outputs": [],
   "source": [
    "seed = 42\n",
    "\n",
    "\n",
    "def seed_everything(seed=42):\n",
    "    random.seed(seed)  # Python 기본 랜덤 시드 고정\n",
    "    torch.manual_seed(seed)  # PyTorch CPU 시드 고정\n",
    "    torch.cuda.manual_seed(seed)  # PyTorch GPU 시드 고정\n",
    "\n",
    "    torch.backends.cudnn.deterministic = True  # 연산의 결정적(Deterministic) 실행 보장\n",
    "    torch.backends.cudnn.benchmark = False  # 모델 구조가 고정되지 않으면 비활성화\n",
    "\n",
    "seed_everything(seed)"
   ]
  },
  {
   "cell_type": "code",
   "execution_count": 27,
   "metadata": {},
   "outputs": [],
   "source": [
    "transform = transforms.Compose([\n",
    "    transforms.ToTensor(),\n",
    "    transforms.Lambda(lambda x: x.view(-1)),\n",
    "])\n",
    "\n",
    "transform_with_rotation = transforms.Compose([\n",
    "    transforms.ToTensor(),\n",
    "    transforms.RandomRotation(degrees=(0, 360)),\n",
    "    transforms.Lambda(lambda x: x.view(-1)),\n",
    "])"
   ]
  },
  {
   "cell_type": "code",
   "execution_count": 28,
   "metadata": {},
   "outputs": [],
   "source": [
    "test_dataset = MNIST(root=\"./data\", train=False, transform=transform, download=True)\n",
    "test_dataset_with_rotation = MNIST(root=\"./data\", train=False, transform=transform_with_rotation, download=True)"
   ]
  },
  {
   "cell_type": "code",
   "execution_count": 29,
   "metadata": {},
   "outputs": [
    {
     "name": "stdout",
     "output_type": "stream",
     "text": [
      "10000\n",
      "10000\n"
     ]
    }
   ],
   "source": [
    "print(len(test_dataset))\n",
    "print(len(test_dataset_with_rotation))"
   ]
  },
  {
   "cell_type": "code",
   "execution_count": 30,
   "metadata": {},
   "outputs": [],
   "source": [
    "pil_transform = transforms.Compose([\n",
    "    transforms.Lambda(lambda x: x.view(-1, 28, 28)),\n",
    "    transforms.ToPILImage(),\n",
    "])"
   ]
  },
  {
   "cell_type": "code",
   "execution_count": 31,
   "metadata": {},
   "outputs": [
    {
     "name": "stdout",
     "output_type": "stream",
     "text": [
      "<class 'torch.Tensor'>\n",
      "torch.Size([784])\n",
      "<class 'int'>\n",
      "7\n"
     ]
    }
   ],
   "source": [
    "image, label = test_dataset[0]\n",
    "\n",
    "print(type(image))\n",
    "print(image.shape)\n",
    "\n",
    "print(type(label))\n",
    "print(label)"
   ]
  },
  {
   "cell_type": "code",
   "execution_count": 32,
   "metadata": {},
   "outputs": [
    {
     "data": {
      "image/png": "[encoded data removed]",
      "text/plain": [
       "<Figure size 640x480 with 2 Axes>"
      ]
     },
     "metadata": {},
     "output_type": "display_data"
    },
    {
     "name": "stdout",
     "output_type": "stream",
     "text": [
      "PIL.Image\n",
      "min: 0, max: 255\n",
      "Torch.tensor\n",
      "min: 0.0, max: 1.0\n"
     ]
    }
   ],
   "source": [
    "plt.title(\"MNIST sample image\")\n",
    "cax = plt.imshow(pil_transform(image))\n",
    "plt.colorbar(cax)\n",
    "plt.show()\n",
    "\n",
    "min_val, max_val = pil_transform(image).getextrema()\n",
    "print(f\"PIL.Image\")\n",
    "print(f\"min: {min_val}, max: {max_val}\")\n",
    "\n",
    "print(f\"Torch.tensor\")\n",
    "print(f\"min: {torch.min(image)}, max: {torch.max(image)}\")"
   ]
  },
  {
   "cell_type": "code",
   "execution_count": 33,
   "metadata": {},
   "outputs": [
    {
     "name": "stdout",
     "output_type": "stream",
     "text": [
      "with Rotation\n",
      "<class 'torch.Tensor'>\n",
      "torch.Size([784])\n",
      "<class 'int'>\n",
      "7\n"
     ]
    }
   ],
   "source": [
    "image, label = test_dataset_with_rotation[0]\n",
    "\n",
    "print(f\"with Rotation\")\n",
    "print(type(image))\n",
    "print(image.shape)\n",
    "\n",
    "print(type(label))\n",
    "print(label)"
   ]
  },
  {
   "cell_type": "code",
   "execution_count": 34,
   "metadata": {},
   "outputs": [
    {
     "data": {
      "image/png": "[encoded data removed]",
      "text/plain": [
       "<Figure size 640x480 with 2 Axes>"
      ]
     },
     "metadata": {},
     "output_type": "display_data"
    },
    {
     "name": "stdout",
     "output_type": "stream",
     "text": [
      "PIL.Image\n",
      "min: 0, max: 255\n",
      "Torch.tensor\n",
      "min: 0.0, max: 1.0\n"
     ]
    }
   ],
   "source": [
    "plt.title(\"MNIST sample image with Rotation\")\n",
    "cax = plt.imshow(pil_transform(image))\n",
    "plt.colorbar(cax)\n",
    "plt.show()\n",
    "\n",
    "min_val, max_val = pil_transform(image).getextrema()\n",
    "print(f\"PIL.Image\")\n",
    "print(f\"min: {min_val}, max: {max_val}\")\n",
    "\n",
    "print(f\"Torch.tensor\")\n",
    "print(f\"min: {torch.min(image)}, max: {torch.max(image)}\")"
   ]
  },
  {
   "cell_type": "code",
   "execution_count": 35,
   "metadata": {},
   "outputs": [],
   "source": [
    "batch_size = 256\n",
    "num_workers = 8\n",
    "\n",
    "test_dataloader = DataLoader(test_dataset, batch_size, shuffle=False, num_workers=num_workers)\n",
    "test_dataloader_with_rotation = DataLoader(test_dataset_with_rotation, batch_size, shuffle=False, num_workers=num_workers)"
   ]
  },
  {
   "cell_type": "code",
   "execution_count": 36,
   "metadata": {},
   "outputs": [
    {
     "name": "stdout",
     "output_type": "stream",
     "text": [
      "40\n",
      "40\n"
     ]
    }
   ],
   "source": [
    "print(len(test_dataloader))\n",
    "print(len(test_dataloader_with_rotation))"
   ]
  },
  {
   "cell_type": "code",
   "execution_count": 37,
   "metadata": {},
   "outputs": [],
   "source": [
    "class LinearModel(nn.Module):\n",
    "    def __init__(self, input_size, hidden_sizes, num_classes):\n",
    "        super().__init__()\n",
    "\n",
    "        self.input_size = input_size\n",
    "        self.hidden_sizes = hidden_sizes\n",
    "        self.num_classes = num_classes\n",
    "        self.layers = self.get_layer()\n",
    "\n",
    "    def get_layer(self):\n",
    "        layers = nn.ModuleList()\n",
    "\n",
    "        if self.hidden_sizes:\n",
    "            layers.append(nn.Linear(self.input_size, self.hidden_sizes[0]))\n",
    "            layers.append(nn.ReLU())\n",
    "            if len(self.hidden_sizes) >= 2:\n",
    "                for idx in range(1, len(self.hidden_sizes)):\n",
    "                    layers.append(nn.Linear(self.hidden_sizes[idx-1], self.hidden_sizes[idx]))\n",
    "                    layers.append(nn.ReLU())\n",
    "            layers.append(nn.Linear(self.hidden_sizes[-1], self.num_classes))\n",
    "        else:\n",
    "            layers.append(nn.Linear(self.input_size, self.num_classes))\n",
    "\n",
    "        return layers\n",
    "    \n",
    "    def forward(self, x):\n",
    "        for layer in self.layers:\n",
    "            x = layer(x)\n",
    "\n",
    "        return x"
   ]
  },
  {
   "cell_type": "code",
   "execution_count": 38,
   "metadata": {},
   "outputs": [],
   "source": [
    "model = LinearModel(784, [500, 300, 100], 10)"
   ]
  },
  {
   "cell_type": "code",
   "execution_count": 39,
   "metadata": {},
   "outputs": [
    {
     "name": "stdout",
     "output_type": "stream",
     "text": [
      "ModuleList(\n",
      "  (0): Linear(in_features=784, out_features=500, bias=True)\n",
      "  (1): ReLU()\n",
      "  (2): Linear(in_features=500, out_features=300, bias=True)\n",
      "  (3): ReLU()\n",
      "  (4): Linear(in_features=300, out_features=100, bias=True)\n",
      "  (5): ReLU()\n",
      "  (6): Linear(in_features=100, out_features=10, bias=True)\n",
      ")\n"
     ]
    }
   ],
   "source": [
    "print(model.layers)"
   ]
  },
  {
   "cell_type": "code",
   "execution_count": 40,
   "metadata": {},
   "outputs": [
    {
     "name": "stderr",
     "output_type": "stream",
     "text": [
      "/tmp/ipykernel_91761/3381199280.py:2: FutureWarning: You are using `torch.load` with `weights_only=False` (the current default value), which uses the default pickle module implicitly. It is possible to construct malicious pickle data which will execute arbitrary code during unpickling (See https://github.com/pytorch/pytorch/blob/main/SECURITY.md#untrusted-models for more details). In a future release, the default value for `weights_only` will be flipped to `True`. This limits the functions that could be executed during unpickling. Arbitrary objects will no longer be allowed to be loaded via this mode unless they are explicitly allowlisted by the user via `torch.serialization.add_safe_globals`. We recommend you start setting `weights_only=True` for any use case where you don't have full control of the loaded file. Please open an issue on GitHub for any issues related to this experimental feature.\n",
      "  model.load_state_dict(torch.load(model_path))\n"
     ]
    },
    {
     "data": {
      "text/plain": [
       "<All keys matched successfully>"
      ]
     },
     "execution_count": 40,
     "metadata": {},
     "output_type": "execute_result"
    }
   ],
   "source": [
    "model_path = \"best_model.pth\"\n",
    "model.load_state_dict(torch.load(model_path))"
   ]
  },
  {
   "cell_type": "code",
   "execution_count": 41,
   "metadata": {},
   "outputs": [
    {
     "data": {
      "text/plain": [
       "LinearModel(\n",
       "  (layers): ModuleList(\n",
       "    (0): Linear(in_features=784, out_features=500, bias=True)\n",
       "    (1): ReLU()\n",
       "    (2): Linear(in_features=500, out_features=300, bias=True)\n",
       "    (3): ReLU()\n",
       "    (4): Linear(in_features=300, out_features=100, bias=True)\n",
       "    (5): ReLU()\n",
       "    (6): Linear(in_features=100, out_features=10, bias=True)\n",
       "  )\n",
       ")"
      ]
     },
     "execution_count": 41,
     "metadata": {},
     "output_type": "execute_result"
    }
   ],
   "source": [
    "device = \"cuda\" if torch.cuda.is_available() else \"cpu\"\n",
    "\n",
    "model.to(device)"
   ]
  },
  {
   "cell_type": "code",
   "execution_count": 42,
   "metadata": {},
   "outputs": [
    {
     "name": "stdout",
     "output_type": "stream",
     "text": [
      "accuracy: 0.9681\n"
     ]
    }
   ],
   "source": [
    "predict_score = 0\n",
    "num_samples = 0\n",
    "for (x, y) in test_dataloader:\n",
    "    num_samples += y.size(0)\n",
    "    x = x.to(device)\n",
    "\n",
    "    output = model(x)\n",
    "    output_idx = output.argmax(dim=1).cpu()\n",
    "\n",
    "    sum = (output_idx == y).sum().item()\n",
    "    predict_score += sum\n",
    "\n",
    "accuracy = predict_score / num_samples\n",
    "print(f\"accuracy: {accuracy:.4f}\")"
   ]
  },
  {
   "cell_type": "code",
   "execution_count": 43,
   "metadata": {},
   "outputs": [
    {
     "name": "stdout",
     "output_type": "stream",
     "text": [
      "rotation accuracy: 0.3305\n"
     ]
    }
   ],
   "source": [
    "predict_score = 0\n",
    "num_samples = 0\n",
    "for (x, y) in test_dataloader_with_rotation:\n",
    "    num_samples += y.size(0)\n",
    "    x = x.to(device)\n",
    "\n",
    "    output = model(x)\n",
    "    output_idx = output.argmax(dim=1).cpu()\n",
    "\n",
    "    sum = (output_idx == y).sum().item()\n",
    "    predict_score += sum\n",
    "\n",
    "accuracy = predict_score / num_samples\n",
    "print(f\"rotation accuracy: {accuracy:.4f}\")"
   ]
  },
  {
   "cell_type": "code",
   "execution_count": null,
   "metadata": {},
   "outputs": [],
   "source": []
  }
 ],
 "metadata": {
  "kernelspec": {
   "display_name": "Python 3",
   "language": "python",
   "name": "python3"
  },
  "language_info": {
   "codemirror_mode": {
    "name": "ipython",
    "version": 3
   },
   "file_extension": ".py",
   "mimetype": "text/x-python",
   "name": "python",
   "nbconvert_exporter": "python",
   "pygments_lexer": "ipython3",
   "version": "3.10.12"
  }
 },
 "nbformat": 4,
 "nbformat_minor": 2
}
