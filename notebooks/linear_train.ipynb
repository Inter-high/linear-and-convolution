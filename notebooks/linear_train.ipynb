{
 "cells": [
  {
   "cell_type": "code",
   "execution_count": 1,
   "metadata": {},
   "outputs": [],
   "source": [
    "import random\n",
    "import matplotlib.pyplot as plt\n",
    "import torch\n",
    "import torch.nn as nn\n",
    "import torch.optim as optim\n",
    "import torchvision.transforms as transforms\n",
    "from torchvision.datasets import MNIST\n",
    "from torch.utils.data import DataLoader, random_split"
   ]
  },
  {
   "cell_type": "code",
   "execution_count": 2,
   "metadata": {},
   "outputs": [],
   "source": [
    "seed = 42\n",
    "\n",
    "\n",
    "def seed_everything(seed=42):\n",
    "    random.seed(seed)  # Python 기본 랜덤 시드 고정\n",
    "    torch.manual_seed(seed)  # PyTorch CPU 시드 고정\n",
    "    torch.cuda.manual_seed(seed)  # PyTorch GPU 시드 고정\n",
    "\n",
    "    torch.backends.cudnn.deterministic = True  # 연산의 결정적(Deterministic) 실행 보장\n",
    "    torch.backends.cudnn.benchmark = False  # 모델 구조가 고정되지 않으면 비활성화\n",
    "\n",
    "seed_everything(seed)"
   ]
  },
  {
   "cell_type": "code",
   "execution_count": 3,
   "metadata": {},
   "outputs": [],
   "source": [
    "transform = transforms.Compose([\n",
    "    transforms.ToTensor(),\n",
    "    transforms.Lambda(lambda x: x.view(-1)),\n",
    "])"
   ]
  },
  {
   "cell_type": "code",
   "execution_count": 4,
   "metadata": {},
   "outputs": [],
   "source": [
    "dataset = MNIST(root=\"./data\", train=True, transform=transform, download=True)"
   ]
  },
  {
   "cell_type": "code",
   "execution_count": 5,
   "metadata": {},
   "outputs": [],
   "source": [
    "generator = torch.Generator().manual_seed(seed)\n",
    "train_dataset, valid_dataset = random_split(dataset, [0.8, 0.2], generator)"
   ]
  },
  {
   "cell_type": "code",
   "execution_count": 6,
   "metadata": {},
   "outputs": [
    {
     "name": "stdout",
     "output_type": "stream",
     "text": [
      "48000\n",
      "12000\n"
     ]
    }
   ],
   "source": [
    "print(len(train_dataset))\n",
    "print(len(valid_dataset))"
   ]
  },
  {
   "cell_type": "code",
   "execution_count": 7,
   "metadata": {},
   "outputs": [
    {
     "name": "stdout",
     "output_type": "stream",
     "text": [
      "<class 'torch.Tensor'>\n",
      "torch.Size([784])\n",
      "<class 'int'>\n",
      "6\n"
     ]
    }
   ],
   "source": [
    "image, label = train_dataset[0]\n",
    "\n",
    "print(type(image))\n",
    "print(image.shape)\n",
    "\n",
    "print(type(label))\n",
    "print(label)"
   ]
  },
  {
   "cell_type": "code",
   "execution_count": 8,
   "metadata": {},
   "outputs": [],
   "source": [
    "pil_transform = transforms.Compose([\n",
    "    transforms.Lambda(lambda x: x.view(-1, 28, 28)),\n",
    "    transforms.ToPILImage(),\n",
    "])"
   ]
  },
  {
   "cell_type": "code",
   "execution_count": 9,
   "metadata": {},
   "outputs": [
    {
     "data": {
      "image/png": "[encoded data removed]",
      "text/plain": [
       "<Figure size 640x480 with 2 Axes>"
      ]
     },
     "metadata": {},
     "output_type": "display_data"
    },
    {
     "name": "stdout",
     "output_type": "stream",
     "text": [
      "PIL.Image\n",
      "min: 0, max: 255\n",
      "Torch.tensor\n",
      "min: 0.0, max: 1.0\n"
     ]
    }
   ],
   "source": [
    "plt.title(\"MNIST sample image\")\n",
    "cax = plt.imshow(pil_transform(image))\n",
    "plt.colorbar(cax)\n",
    "plt.show()\n",
    "\n",
    "min_val, max_val = pil_transform(image).getextrema()\n",
    "print(f\"PIL.Image\")\n",
    "print(f\"min: {min_val}, max: {max_val}\")\n",
    "\n",
    "print(f\"Torch.tensor\")\n",
    "print(f\"min: {torch.min(image)}, max: {torch.max(image)}\")"
   ]
  },
  {
   "cell_type": "code",
   "execution_count": 10,
   "metadata": {},
   "outputs": [],
   "source": [
    "batch_size = 256\n",
    "num_workers = 8\n",
    "\n",
    "train_dataloader = DataLoader(train_dataset, batch_size, shuffle=True, num_workers=num_workers, drop_last=True)\n",
    "valid_dataloader = DataLoader(valid_dataset, batch_size, shuffle=False, num_workers=num_workers)"
   ]
  },
  {
   "cell_type": "code",
   "execution_count": 11,
   "metadata": {},
   "outputs": [
    {
     "name": "stdout",
     "output_type": "stream",
     "text": [
      "187\n",
      "47\n"
     ]
    }
   ],
   "source": [
    "print(len(train_dataloader))\n",
    "print(len(valid_dataloader))"
   ]
  },
  {
   "cell_type": "code",
   "execution_count": 12,
   "metadata": {},
   "outputs": [],
   "source": [
    "class LinearModel(nn.Module):\n",
    "    def __init__(self, input_size, hidden_sizes, num_classes):\n",
    "        super().__init__()\n",
    "\n",
    "        self.input_size = input_size\n",
    "        self.hidden_sizes = hidden_sizes\n",
    "        self.num_classes = num_classes\n",
    "        self.layers = self.get_layer()\n",
    "\n",
    "    def get_layer(self):\n",
    "        layers = nn.ModuleList()\n",
    "\n",
    "        if self.hidden_sizes:\n",
    "            layers.append(nn.Linear(self.input_size, self.hidden_sizes[0]))\n",
    "            layers.append(nn.ReLU())\n",
    "            if len(self.hidden_sizes) >= 2:\n",
    "                for idx in range(1, len(self.hidden_sizes)):\n",
    "                    layers.append(nn.Linear(self.hidden_sizes[idx-1], self.hidden_sizes[idx]))\n",
    "                    layers.append(nn.ReLU())\n",
    "            layers.append(nn.Linear(self.hidden_sizes[-1], self.num_classes))\n",
    "        else:\n",
    "            layers.append(nn.Linear(self.input_size, self.num_classes))\n",
    "\n",
    "        return layers\n",
    "    \n",
    "    def forward(self, x):\n",
    "        for layer in self.layers:\n",
    "            x = layer(x)\n",
    "\n",
    "        return x"
   ]
  },
  {
   "cell_type": "code",
   "execution_count": 13,
   "metadata": {},
   "outputs": [],
   "source": [
    "model = LinearModel(784, [500, 300, 100], 10)"
   ]
  },
  {
   "cell_type": "code",
   "execution_count": 14,
   "metadata": {},
   "outputs": [
    {
     "name": "stdout",
     "output_type": "stream",
     "text": [
      "ModuleList(\n",
      "  (0): Linear(in_features=784, out_features=500, bias=True)\n",
      "  (1): ReLU()\n",
      "  (2): Linear(in_features=500, out_features=300, bias=True)\n",
      "  (3): ReLU()\n",
      "  (4): Linear(in_features=300, out_features=100, bias=True)\n",
      "  (5): ReLU()\n",
      "  (6): Linear(in_features=100, out_features=10, bias=True)\n",
      ")\n"
     ]
    }
   ],
   "source": [
    "print(model.layers)"
   ]
  },
  {
   "cell_type": "code",
   "execution_count": 15,
   "metadata": {},
   "outputs": [],
   "source": [
    "criterion = nn.CrossEntropyLoss()\n",
    "optimizer = optim.SGD(model.parameters(), lr=1e-3)"
   ]
  },
  {
   "cell_type": "code",
   "execution_count": 16,
   "metadata": {},
   "outputs": [
    {
     "data": {
      "text/plain": [
       "LinearModel(\n",
       "  (layers): ModuleList(\n",
       "    (0): Linear(in_features=784, out_features=500, bias=True)\n",
       "    (1): ReLU()\n",
       "    (2): Linear(in_features=500, out_features=300, bias=True)\n",
       "    (3): ReLU()\n",
       "    (4): Linear(in_features=300, out_features=100, bias=True)\n",
       "    (5): ReLU()\n",
       "    (6): Linear(in_features=100, out_features=10, bias=True)\n",
       "  )\n",
       ")"
      ]
     },
     "execution_count": 16,
     "metadata": {},
     "output_type": "execute_result"
    }
   ],
   "source": [
    "device = \"cuda\" if torch.cuda.is_available() else \"cpu\"\n",
    "\n",
    "criterion.to(device)\n",
    "model.to(device)"
   ]
  },
  {
   "cell_type": "code",
   "execution_count": 17,
   "metadata": {},
   "outputs": [
    {
     "name": "stdout",
     "output_type": "stream",
     "text": [
      "New best model saved at epoch 0 with Valid Loss: 2.3010\n",
      "Epoch: 0/1000 | Train Loss: 2.3021 | Valid Loss: 2.3010\n",
      "New best model saved at epoch 100 with Valid Loss: 0.5191\n",
      "Epoch: 100/1000 | Train Loss: 0.5092 | Valid Loss: 0.5191\n",
      "New best model saved at epoch 200 with Valid Loss: 0.3502\n",
      "Epoch: 200/1000 | Train Loss: 0.3259 | Valid Loss: 0.3502\n",
      "New best model saved at epoch 300 with Valid Loss: 0.2908\n",
      "Epoch: 300/1000 | Train Loss: 0.2626 | Valid Loss: 0.2908\n",
      "New best model saved at epoch 400 with Valid Loss: 0.2428\n",
      "Epoch: 400/1000 | Train Loss: 0.2120 | Valid Loss: 0.2428\n",
      "New best model saved at epoch 500 with Valid Loss: 0.2053\n",
      "Epoch: 500/1000 | Train Loss: 0.1717 | Valid Loss: 0.2053\n",
      "New best model saved at epoch 600 with Valid Loss: 0.1787\n",
      "Epoch: 600/1000 | Train Loss: 0.1420 | Valid Loss: 0.1787\n",
      "New best model saved at epoch 700 with Valid Loss: 0.1602\n",
      "Epoch: 700/1000 | Train Loss: 0.1196 | Valid Loss: 0.1602\n",
      "New best model saved at epoch 800 with Valid Loss: 0.1463\n",
      "Epoch: 800/1000 | Train Loss: 0.1026 | Valid Loss: 0.1463\n",
      "New best model saved at epoch 900 with Valid Loss: 0.1356\n",
      "Epoch: 900/1000 | Train Loss: 0.0885 | Valid Loss: 0.1356\n",
      "New best model saved at epoch 1000 with Valid Loss: 0.1273\n",
      "Epoch: 1000/1000 | Train Loss: 0.0766 | Valid Loss: 0.1273\n"
     ]
    }
   ],
   "source": [
    "epochs = 1000\n",
    "lowest_loss = float('inf')\n",
    "\n",
    "train_losses = []\n",
    "valid_losses = []\n",
    "\n",
    "for epoch in range(epochs + 1):\n",
    "    model.train()\n",
    "    train_loss = 0.0\n",
    "    for (x, y) in train_dataloader:\n",
    "        x, y = x.to(device), y.to(device)\n",
    "\n",
    "        optimizer.zero_grad()\n",
    "\n",
    "        y_hat = model(x)\n",
    "        \n",
    "        loss = criterion(y_hat, y)\n",
    "        loss.backward()\n",
    "\n",
    "        optimizer.step()\n",
    "\n",
    "        train_loss += loss.item()\n",
    "    train_loss /= len(train_dataloader)\n",
    "    train_losses.append(train_loss)\n",
    "\n",
    "    if epoch % 100 == 0:\n",
    "        model.eval()\n",
    "        valid_loss = 0.0\n",
    "        with torch.no_grad():\n",
    "            for (x, y) in valid_dataloader:\n",
    "                x, y = x.to(device), y.to(device)\n",
    "\n",
    "                y_hat = model(x)\n",
    "                \n",
    "                loss = criterion(y_hat, y)\n",
    "                valid_loss += loss.item()\n",
    "            \n",
    "            valid_loss /= len(valid_dataloader)\n",
    "            valid_losses.append(valid_loss)\n",
    "\n",
    "            if valid_loss < lowest_loss:\n",
    "                lowest_loss = valid_loss\n",
    "                torch.save(model.state_dict(), \"best_model.pth\")\n",
    "                print(f\"New best model saved at epoch {epoch} with Valid Loss: {valid_loss:.4f}\")\n",
    "\n",
    "            print(f\"Epoch: {epoch}/{epochs} | Train Loss: {train_loss:.4f} | Valid Loss: {valid_loss:.4f}\")"
   ]
  },
  {
   "cell_type": "code",
   "execution_count": 18,
   "metadata": {},
   "outputs": [
    {
     "data": {
      "image/png": "[encoded data removed]",
      "text/plain": [
       "<Figure size 640x480 with 1 Axes>"
      ]
     },
     "metadata": {},
     "output_type": "display_data"
    }
   ],
   "source": [
    "plt.plot(train_losses, label=\"Train Loss\")\n",
    "plt.plot(range(0, len(valid_losses) * 100, 100), valid_losses, label=\"Valid Loss\")\n",
    "plt.xlabel(\"Epochs\")\n",
    "plt.ylabel(\"Loss\")\n",
    "plt.legend()\n",
    "plt.title(\"Training and Validation Loss\")\n",
    "plt.show()"
   ]
  },
  {
   "cell_type": "markdown",
   "metadata": {},
   "source": [
    "# With Rotation"
   ]
  },
  {
   "cell_type": "code",
   "execution_count": 19,
   "metadata": {},
   "outputs": [],
   "source": [
    "transform = transforms.Compose([\n",
    "    transforms.ToTensor(),\n",
    "    transforms.RandomRotation(degrees=(0, 360)),\n",
    "    transforms.Lambda(lambda x: x.view(-1)),\n",
    "])"
   ]
  },
  {
   "cell_type": "code",
   "execution_count": 20,
   "metadata": {},
   "outputs": [],
   "source": [
    "dataset = MNIST(root=\"./data\", train=True, transform=transform, download=True)"
   ]
  },
  {
   "cell_type": "code",
   "execution_count": 21,
   "metadata": {},
   "outputs": [],
   "source": [
    "generator = torch.Generator().manual_seed(seed)\n",
    "train_dataset, valid_dataset = random_split(dataset, [0.8, 0.2], generator)"
   ]
  },
  {
   "cell_type": "code",
   "execution_count": 22,
   "metadata": {},
   "outputs": [
    {
     "name": "stdout",
     "output_type": "stream",
     "text": [
      "48000\n",
      "12000\n"
     ]
    }
   ],
   "source": [
    "print(len(train_dataset))\n",
    "print(len(valid_dataset))"
   ]
  },
  {
   "cell_type": "code",
   "execution_count": 23,
   "metadata": {},
   "outputs": [
    {
     "name": "stdout",
     "output_type": "stream",
     "text": [
      "<class 'torch.Tensor'>\n",
      "torch.Size([784])\n",
      "<class 'int'>\n",
      "6\n"
     ]
    }
   ],
   "source": [
    "image, label = train_dataset[0]\n",
    "\n",
    "print(type(image))\n",
    "print(image.shape)\n",
    "\n",
    "print(type(label))\n",
    "print(label)"
   ]
  },
  {
   "cell_type": "code",
   "execution_count": 24,
   "metadata": {},
   "outputs": [],
   "source": [
    "pil_transform = transforms.Compose([\n",
    "    transforms.Lambda(lambda x: x.view(-1, 28, 28)),\n",
    "    transforms.ToPILImage(),\n",
    "])"
   ]
  },
  {
   "cell_type": "code",
   "execution_count": 25,
   "metadata": {},
   "outputs": [
    {
     "data": {
      "image/png": "[encoded data removed]",
      "text/plain": [
       "<Figure size 640x480 with 2 Axes>"
      ]
     },
     "metadata": {},
     "output_type": "display_data"
    },
    {
     "name": "stdout",
     "output_type": "stream",
     "text": [
      "PIL.Image\n",
      "min: 0, max: 255\n",
      "Torch.tensor\n",
      "min: 0.0, max: 1.0\n"
     ]
    }
   ],
   "source": [
    "plt.title(\"MNIST sample image\")\n",
    "cax = plt.imshow(pil_transform(image))\n",
    "plt.colorbar(cax)\n",
    "plt.show()\n",
    "\n",
    "min_val, max_val = pil_transform(image).getextrema()\n",
    "print(f\"PIL.Image\")\n",
    "print(f\"min: {min_val}, max: {max_val}\")\n",
    "\n",
    "print(f\"Torch.tensor\")\n",
    "print(f\"min: {torch.min(image)}, max: {torch.max(image)}\")"
   ]
  },
  {
   "cell_type": "code",
   "execution_count": 26,
   "metadata": {},
   "outputs": [],
   "source": [
    "batch_size = 256\n",
    "num_workers = 8\n",
    "\n",
    "train_dataloader = DataLoader(train_dataset, batch_size, shuffle=True, num_workers=num_workers, drop_last=True)\n",
    "valid_dataloader = DataLoader(valid_dataset, batch_size, shuffle=False, num_workers=num_workers)"
   ]
  },
  {
   "cell_type": "code",
   "execution_count": 27,
   "metadata": {},
   "outputs": [
    {
     "name": "stdout",
     "output_type": "stream",
     "text": [
      "187\n",
      "47\n"
     ]
    }
   ],
   "source": [
    "print(len(train_dataloader))\n",
    "print(len(valid_dataloader))"
   ]
  },
  {
   "cell_type": "code",
   "execution_count": 28,
   "metadata": {},
   "outputs": [],
   "source": [
    "class LinearModel(nn.Module):\n",
    "    def __init__(self, input_size, hidden_sizes, num_classes):\n",
    "        super().__init__()\n",
    "\n",
    "        self.input_size = input_size\n",
    "        self.hidden_sizes = hidden_sizes\n",
    "        self.num_classes = num_classes\n",
    "        self.layers = self.get_layer()\n",
    "\n",
    "    def get_layer(self):\n",
    "        layers = nn.ModuleList()\n",
    "\n",
    "        if self.hidden_sizes:\n",
    "            layers.append(nn.Linear(self.input_size, self.hidden_sizes[0]))\n",
    "            layers.append(nn.ReLU())\n",
    "            if len(self.hidden_sizes) >= 2:\n",
    "                for idx in range(1, len(self.hidden_sizes)):\n",
    "                    layers.append(nn.Linear(self.hidden_sizes[idx-1], self.hidden_sizes[idx]))\n",
    "                    layers.append(nn.ReLU())\n",
    "            layers.append(nn.Linear(self.hidden_sizes[-1], self.num_classes))\n",
    "        else:\n",
    "            layers.append(nn.Linear(self.input_size, self.num_classes))\n",
    "\n",
    "        return layers\n",
    "    \n",
    "    def forward(self, x):\n",
    "        for layer in self.layers:\n",
    "            x = layer(x)\n",
    "\n",
    "        return x"
   ]
  },
  {
   "cell_type": "code",
   "execution_count": 29,
   "metadata": {},
   "outputs": [],
   "source": [
    "model = LinearModel(784, [500, 300, 100], 10)"
   ]
  },
  {
   "cell_type": "code",
   "execution_count": 30,
   "metadata": {},
   "outputs": [
    {
     "name": "stdout",
     "output_type": "stream",
     "text": [
      "ModuleList(\n",
      "  (0): Linear(in_features=784, out_features=500, bias=True)\n",
      "  (1): ReLU()\n",
      "  (2): Linear(in_features=500, out_features=300, bias=True)\n",
      "  (3): ReLU()\n",
      "  (4): Linear(in_features=300, out_features=100, bias=True)\n",
      "  (5): ReLU()\n",
      "  (6): Linear(in_features=100, out_features=10, bias=True)\n",
      ")\n"
     ]
    }
   ],
   "source": [
    "print(model.layers)"
   ]
  },
  {
   "cell_type": "code",
   "execution_count": 31,
   "metadata": {},
   "outputs": [],
   "source": [
    "criterion = nn.CrossEntropyLoss()\n",
    "optimizer = optim.SGD(model.parameters(), lr=1e-3)"
   ]
  },
  {
   "cell_type": "code",
   "execution_count": 32,
   "metadata": {},
   "outputs": [
    {
     "data": {
      "text/plain": [
       "LinearModel(\n",
       "  (layers): ModuleList(\n",
       "    (0): Linear(in_features=784, out_features=500, bias=True)\n",
       "    (1): ReLU()\n",
       "    (2): Linear(in_features=500, out_features=300, bias=True)\n",
       "    (3): ReLU()\n",
       "    (4): Linear(in_features=300, out_features=100, bias=True)\n",
       "    (5): ReLU()\n",
       "    (6): Linear(in_features=100, out_features=10, bias=True)\n",
       "  )\n",
       ")"
      ]
     },
     "execution_count": 32,
     "metadata": {},
     "output_type": "execute_result"
    }
   ],
   "source": [
    "device = \"cuda\" if torch.cuda.is_available() else \"cpu\"\n",
    "\n",
    "criterion.to(device)\n",
    "model.to(device)"
   ]
  },
  {
   "cell_type": "code",
   "execution_count": 33,
   "metadata": {},
   "outputs": [
    {
     "name": "stdout",
     "output_type": "stream",
     "text": [
      "New best model saved at epoch 0 with Valid Loss: 2.3051\n",
      "Epoch: 0/1000 | Train Loss: 2.3054 | Valid Loss: 2.3051\n",
      "New best model saved at epoch 100 with Valid Loss: 1.5420\n",
      "Epoch: 100/1000 | Train Loss: 1.5392 | Valid Loss: 1.5420\n",
      "New best model saved at epoch 200 with Valid Loss: 1.3915\n",
      "Epoch: 200/1000 | Train Loss: 1.3760 | Valid Loss: 1.3915\n",
      "New best model saved at epoch 300 with Valid Loss: 1.3010\n",
      "Epoch: 300/1000 | Train Loss: 1.2859 | Valid Loss: 1.3010\n",
      "New best model saved at epoch 400 with Valid Loss: 1.1907\n",
      "Epoch: 400/1000 | Train Loss: 1.1782 | Valid Loss: 1.1907\n",
      "New best model saved at epoch 500 with Valid Loss: 1.0483\n",
      "Epoch: 500/1000 | Train Loss: 1.0377 | Valid Loss: 1.0483\n",
      "New best model saved at epoch 600 with Valid Loss: 0.8492\n",
      "Epoch: 600/1000 | Train Loss: 0.8390 | Valid Loss: 0.8492\n",
      "New best model saved at epoch 700 with Valid Loss: 0.6262\n",
      "Epoch: 700/1000 | Train Loss: 0.6105 | Valid Loss: 0.6262\n",
      "New best model saved at epoch 800 with Valid Loss: 0.5023\n",
      "Epoch: 800/1000 | Train Loss: 0.4882 | Valid Loss: 0.5023\n",
      "New best model saved at epoch 900 with Valid Loss: 0.4305\n",
      "Epoch: 900/1000 | Train Loss: 0.4169 | Valid Loss: 0.4305\n",
      "New best model saved at epoch 1000 with Valid Loss: 0.3802\n",
      "Epoch: 1000/1000 | Train Loss: 0.3686 | Valid Loss: 0.3802\n"
     ]
    }
   ],
   "source": [
    "epochs = 1000\n",
    "lowest_loss = float('inf')\n",
    "\n",
    "train_losses = []\n",
    "valid_losses = []\n",
    "\n",
    "for epoch in range(epochs + 1):\n",
    "    model.train()\n",
    "    train_loss = 0.0\n",
    "    for (x, y) in train_dataloader:\n",
    "        x, y = x.to(device), y.to(device)\n",
    "\n",
    "        optimizer.zero_grad()\n",
    "\n",
    "        y_hat = model(x)\n",
    "        \n",
    "        loss = criterion(y_hat, y)\n",
    "        loss.backward()\n",
    "\n",
    "        optimizer.step()\n",
    "\n",
    "        train_loss += loss.item()\n",
    "    train_loss /= len(train_dataloader)\n",
    "    train_losses.append(train_loss)\n",
    "\n",
    "    if epoch % 100 == 0:\n",
    "        model.eval()\n",
    "        valid_loss = 0.0\n",
    "        with torch.no_grad():\n",
    "            for (x, y) in valid_dataloader:\n",
    "                x, y = x.to(device), y.to(device)\n",
    "\n",
    "                y_hat = model(x)\n",
    "                \n",
    "                loss = criterion(y_hat, y)\n",
    "                valid_loss += loss.item()\n",
    "            \n",
    "            valid_loss /= len(valid_dataloader)\n",
    "            valid_losses.append(valid_loss)\n",
    "\n",
    "            if valid_loss < lowest_loss:\n",
    "                lowest_loss = valid_loss\n",
    "                torch.save(model.state_dict(), \"best_model_with_rotation.pth\")\n",
    "                print(f\"New best model saved at epoch {epoch} with Valid Loss: {valid_loss:.4f}\")\n",
    "\n",
    "            print(f\"Epoch: {epoch}/{epochs} | Train Loss: {train_loss:.4f} | Valid Loss: {valid_loss:.4f}\")"
   ]
  },
  {
   "cell_type": "code",
   "execution_count": 34,
   "metadata": {},
   "outputs": [
    {
     "data": {
      "image/png": "[encoded data removed]",
      "text/plain": [
       "<Figure size 640x480 with 1 Axes>"
      ]
     },
     "metadata": {},
     "output_type": "display_data"
    }
   ],
   "source": [
    "plt.plot(train_losses, label=\"Train Loss\")\n",
    "plt.plot(range(0, len(valid_losses) * 100, 100), valid_losses, label=\"Valid Loss\")\n",
    "plt.xlabel(\"Epochs\")\n",
    "plt.ylabel(\"Loss\")\n",
    "plt.legend()\n",
    "plt.title(\"Training and Validation Loss with Rotation\")\n",
    "plt.show()"
   ]
  }
 ],
 "metadata": {
  "kernelspec": {
   "display_name": "Python 3",
   "language": "python",
   "name": "python3"
  },
  "language_info": {
   "codemirror_mode": {
    "name": "ipython",
    "version": 3
   },
   "file_extension": ".py",
   "mimetype": "text/x-python",
   "name": "python",
   "nbconvert_exporter": "python",
   "pygments_lexer": "ipython3",
   "version": "3.10.12"
  }
 },
 "nbformat": 4,
 "nbformat_minor": 2
}
